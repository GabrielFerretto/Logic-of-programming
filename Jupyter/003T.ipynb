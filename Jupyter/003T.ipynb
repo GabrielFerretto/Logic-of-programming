{
 "cells": [
  {
   "cell_type": "code",
   "execution_count": 3,
   "metadata": {},
   "outputs": [
    {
     "name": "stdout",
     "output_type": "stream",
     "text": [
      "O primeiro valor é maior que o sgundo!\n"
     ]
    }
   ],
   "source": [
    "# Le dois valores inteiros e compata ambos\n",
    "x = int(input(\"Digite um valor inteiro: \"))\n",
    "y = int(input(\"Digite um segundo valor inteiro: \"))\n",
    "if (x > y):\n",
    "    print(\"O primeiro valor é maior que o sgundo!\")"
   ]
  },
  {
   "cell_type": "code",
   "execution_count": 6,
   "metadata": {},
   "outputs": [
    {
     "name": "stdout",
     "output_type": "stream",
     "text": [
      "O número é impar !\n"
     ]
    }
   ],
   "source": [
    "# par ou impar\n",
    "x = int(input(\"Digite um valor inteiro: \"))\n",
    "if (x % 2 == 0):\n",
    "    print(\"O número é par !\")\n",
    "else:\n",
    "    print(\"O número é impar !\")"
   ]
  },
  {
   "cell_type": "code",
   "execution_count": 7,
   "metadata": {},
   "outputs": [
    {
     "name": "stdout",
     "output_type": "stream",
     "text": [
      "False\n",
      "True\n"
     ]
    }
   ],
   "source": [
    "# not\n",
    "x = True\n",
    "y = False\n",
    "print(not x)\n",
    "print(not y)"
   ]
  },
  {
   "cell_type": "code",
   "execution_count": 8,
   "metadata": {},
   "outputs": [
    {
     "name": "stdout",
     "output_type": "stream",
     "text": [
      "False\n"
     ]
    }
   ],
   "source": [
    "# and\n",
    "x = True\n",
    "y = False\n",
    "print(x and y)"
   ]
  },
  {
   "cell_type": "code",
   "execution_count": 9,
   "metadata": {},
   "outputs": [
    {
     "name": "stdout",
     "output_type": "stream",
     "text": [
      "True\n"
     ]
    }
   ],
   "source": [
    "# or\n",
    "x = True\n",
    "y = False\n",
    "print(x or y)"
   ]
  },
  {
   "cell_type": "code",
   "execution_count": null,
   "metadata": {},
   "outputs": [],
   "source": [
    "x = 10\n",
    "y = 1\n",
    "res = not x > y\n",
    "print(res)"
   ]
  },
  {
   "cell_type": "code",
   "execution_count": null,
   "metadata": {},
   "outputs": [],
   "source": [
    "x = 10\n",
    "y = 1\n",
    "z = 5.5\n",
    "res = x > y and z == y\n",
    "print(res)\n"
   ]
  },
  {
   "cell_type": "code",
   "execution_count": 10,
   "metadata": {},
   "outputs": [
    {
     "name": "stdout",
     "output_type": "stream",
     "text": [
      "O aluno não passou de ano!\n"
     ]
    }
   ],
   "source": [
    "# Exercicio\n",
    "m1 = float(input(\"Digite a nota da 1 matéria: \"))\n",
    "m2 = float(input(\"Digite a nota da 2 matéria: \"))\n",
    "m3 = float(input(\"Digite a nota da 3 matéria: \"))\n",
    "\n",
    "if m1 >= 7 and m2 >= 7 and m3 >=7:\n",
    "    print(\"O aluno está aprovado de ano !\")\n",
    "else:\n",
    "    print(\"O aluno não passou de ano!\")\n",
    "    "
   ]
  },
  {
   "cell_type": "code",
   "execution_count": 2,
   "metadata": {},
   "outputs": [
    {
     "name": "stdout",
     "output_type": "stream",
     "text": [
      "Escolha o que deseja comprar: \n",
      "1 - Maça\n",
      "2 - Laranja\n",
      "3 - Banana\n",
      "Você comprou 1000 bananas. Total a pagar: 1850.0\n"
     ]
    }
   ],
   "source": [
    "# Exercicio\n",
    "print(\"Escolha o que deseja comprar: \")\n",
    "print(\"1 - Maça\")\n",
    "print(\"2 - Laranja\")\n",
    "print(\"3 - Banana\")\n",
    "produto = int(input(\"Qual sua escolha ? \"))\n",
    "qtd = int(input(\"Quantas unidades ?\"))\n",
    "if (produto == 1):\n",
    "    pagar = qtd * 2.3\n",
    "    print(f\"Você comprou {qtd} maças. Total a pagar : {pagar}\")\n",
    "else:\n",
    "    if (produto == 2):\n",
    "        pagar = qtd * 3.6\n",
    "        print(f\"Você comprou {qtd} laranjas. Total a pagar {pagar}\")\n",
    "    else:\n",
    "        if (produto == 3):\n",
    "            pagar = qtd * 1.85\n",
    "            print(f\"Você comprou {qtd} bananas. Total a pagar: {pagar}\")\n",
    "        else:\n",
    "            print(\"Produto inexistente!\")\n"
   ]
  },
  {
   "cell_type": "code",
   "execution_count": 5,
   "metadata": {},
   "outputs": [],
   "source": [
    "nome = input(\"Qual seu nome ?\")\n",
    "idade = int(input(\"Qual sua idade ?\"))\n",
    "if nome == \"Gbariel\":\n",
    "    pritn(\"Ola Gabriel\")\n",
    "elif idade < 18:\n",
    "    print(\"Você não é o Gabriel! Erro ao logar como admin\")\n",
    "elif idade > 100:\n",
    "    print(\"Diferente de você, o Gabriel é o verdadeiro admin\")\n",
    "    "
   ]
  }
 ],
 "metadata": {
  "kernelspec": {
   "display_name": "Python 3.9.12 ('base')",
   "language": "python",
   "name": "python3"
  },
  "language_info": {
   "codemirror_mode": {
    "name": "ipython",
    "version": 3
   },
   "file_extension": ".py",
   "mimetype": "text/x-python",
   "name": "python",
   "nbconvert_exporter": "python",
   "pygments_lexer": "ipython3",
   "version": "3.9.12"
  },
  "orig_nbformat": 4,
  "vscode": {
   "interpreter": {
    "hash": "7b5e7e6bd81ce6cf92c4ec268efb9c2f6a0e54f3ca70ade0ed2f7e7bb0333568"
   }
  }
 },
 "nbformat": 4,
 "nbformat_minor": 2
}

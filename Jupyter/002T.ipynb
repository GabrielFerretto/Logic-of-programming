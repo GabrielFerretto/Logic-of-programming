{
 "cells": [
  {
   "cell_type": "code",
   "execution_count": 10,
   "metadata": {},
   "outputs": [
    {
     "name": "stdout",
     "output_type": "stream",
     "text": [
      "Hello Word!\n"
     ]
    }
   ],
   "source": [
    "print(\"Hello Word!\")"
   ]
  },
  {
   "cell_type": "code",
   "execution_count": 6,
   "metadata": {},
   "outputs": [
    {
     "name": "stdout",
     "output_type": "stream",
     "text": [
      "60\n"
     ]
    }
   ],
   "source": [
    "print((60 + 60) // 2 )"
   ]
  },
  {
   "cell_type": "code",
   "execution_count": 9,
   "metadata": {},
   "outputs": [
    {
     "name": "stdout",
     "output_type": "stream",
     "text": [
      "Hello Word!\n"
     ]
    }
   ],
   "source": [
    "print(\"Hello\" + \" Word\" + \"!\")"
   ]
  },
  {
   "cell_type": "code",
   "execution_count": 16,
   "metadata": {},
   "outputs": [
    {
     "name": "stdout",
     "output_type": "stream",
     "text": [
      "Logica de programação e Algoritmos\n",
      "8.5\n"
     ]
    }
   ],
   "source": [
    "nota = 8.5\n",
    "disciplina = \"Logica de programação e Algoritmos\"\n",
    "\n",
    "print(disciplina)\n",
    "print(nota)"
   ]
  },
  {
   "cell_type": "code",
   "execution_count": 17,
   "metadata": {},
   "outputs": [
    {
     "name": "stdout",
     "output_type": "stream",
     "text": [
      "False\n"
     ]
    }
   ],
   "source": [
    "a = 1\n",
    "b = 5\n",
    "\n",
    "resposta = a == b\n",
    "print(resposta)"
   ]
  },
  {
   "cell_type": "code",
   "execution_count": 18,
   "metadata": {},
   "outputs": [
    {
     "name": "stdout",
     "output_type": "stream",
     "text": [
      "True\n"
     ]
    }
   ],
   "source": [
    "resposta = a != b\n",
    "print(resposta)"
   ]
  },
  {
   "cell_type": "code",
   "execution_count": 21,
   "metadata": {},
   "outputs": [
    {
     "name": "stdout",
     "output_type": "stream",
     "text": [
      "Hello Word!\n"
     ]
    }
   ],
   "source": [
    "hw = \"Hello Word!\"\n",
    "print(hw)"
   ]
  },
  {
   "cell_type": "code",
   "execution_count": 22,
   "metadata": {},
   "outputs": [
    {
     "name": "stdout",
     "output_type": "stream",
     "text": [
      "Logica de Programação e Algoritimos\n"
     ]
    }
   ],
   "source": [
    "s1 = \"Logica de Programação\"\n",
    "s1 = s1 + \" e Algoritimos\"\n",
    "print(s1)"
   ]
  },
  {
   "cell_type": "code",
   "execution_count": 24,
   "metadata": {},
   "outputs": [
    {
     "name": "stdout",
     "output_type": "stream",
     "text": [
      "Emoji💻💻💻💻💻💻💻💻💻💻💻💻💻💻💻💻💻💻💻💻💻💻💻💻💻Emoji\n"
     ]
    }
   ],
   "source": [
    "s2 = \"Emoji\" + \"💻\" * 25 + \"Emoji\"\n",
    "print(s2)"
   ]
  },
  {
   "cell_type": "code",
   "execution_count": 26,
   "metadata": {},
   "outputs": [
    {
     "name": "stdout",
     "output_type": "stream",
     "text": [
      "Você tirou 9.500000 na disciplina de Algoritmos\n"
     ]
    }
   ],
   "source": [
    "nota = 9.5\n",
    "s3 = \"Você tirou %f na disciplina de Algoritmos\" % nota\n",
    "print(s3)"
   ]
  },
  {
   "cell_type": "code",
   "execution_count": 34,
   "metadata": {},
   "outputs": [
    {
     "name": "stdout",
     "output_type": "stream",
     "text": [
      "Você tirou 9.5 na disciplina de Algoritmos\n"
     ]
    }
   ],
   "source": [
    "nota = 9.5\n",
    "s3 = f\"Você tirou {nota} na disciplina de Algoritmos\" \n",
    "print(s3)"
   ]
  },
  {
   "cell_type": "code",
   "execution_count": 5,
   "metadata": {},
   "outputs": [
    {
     "name": "stdout",
     "output_type": "stream",
     "text": [
      "Você tirou 9.\n"
     ]
    }
   ],
   "source": [
    "s3 = f\"Você tirou 9.5 na disciplina de Algoritmos\" \n",
    "print(s3[0:13])"
   ]
  },
  {
   "cell_type": "code",
   "execution_count": 7,
   "metadata": {},
   "outputs": [
    {
     "name": "stdout",
     "output_type": "stream",
     "text": [
      "Gabriel\n"
     ]
    }
   ],
   "source": [
    "idade = input(\"Qual é sua idade ? \")\n",
    "print(idade)"
   ]
  },
  {
   "cell_type": "code",
   "execution_count": 8,
   "metadata": {},
   "outputs": [
    {
     "name": "stdout",
     "output_type": "stream",
     "text": [
      "Sua idade é 12\n"
     ]
    }
   ],
   "source": [
    "idade = input(\"Qual é sua idade ? \")\n",
    "print(f\"Sua idade é {idade}\")"
   ]
  },
  {
   "cell_type": "code",
   "execution_count": 9,
   "metadata": {},
   "outputs": [
    {
     "name": "stdout",
     "output_type": "stream",
     "text": [
      "Sua nota foi 9.5\n"
     ]
    }
   ],
   "source": [
    "q_sua_nota = float(input(\"Qual foi sua nota ?\"))\n",
    "print(f\"Sua nota foi {q_sua_nota}\")"
   ]
  },
  {
   "cell_type": "code",
   "execution_count": 10,
   "metadata": {},
   "outputs": [
    {
     "name": "stdout",
     "output_type": "stream",
     "text": [
      "A soma de x + y foi de 5\n"
     ]
    }
   ],
   "source": [
    "#Exercicio\n",
    "x = int(input(\"Digite um numero inteiro:\"))\n",
    "y = int(input(\"Digite outro numero inteiro:\"))\n",
    "print(f\"A soma de x + y foi de {x + y}\")"
   ]
  }
 ],
 "metadata": {
  "kernelspec": {
   "display_name": "Python 3.9.12 ('base')",
   "language": "python",
   "name": "python3"
  },
  "language_info": {
   "codemirror_mode": {
    "name": "ipython",
    "version": 3
   },
   "file_extension": ".py",
   "mimetype": "text/x-python",
   "name": "python",
   "nbconvert_exporter": "python",
   "pygments_lexer": "ipython3",
   "version": "3.9.12"
  },
  "orig_nbformat": 4,
  "vscode": {
   "interpreter": {
    "hash": "7b5e7e6bd81ce6cf92c4ec268efb9c2f6a0e54f3ca70ade0ed2f7e7bb0333568"
   }
  }
 },
 "nbformat": 4,
 "nbformat_minor": 2
}
